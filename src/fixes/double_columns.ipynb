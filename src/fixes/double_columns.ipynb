{
 "cells": [
  {
   "metadata": {
    "ExecuteTime": {
     "end_time": "2025-06-16T13:55:11.310968Z",
     "start_time": "2025-06-16T13:55:11.281441Z"
    }
   },
   "cell_type": "code",
   "source": [
    "# duckdb con\n",
    "import duckdb\n",
    "\n",
    "from src.config import DATABASE_PATH\n",
    "\n",
    "con = duckdb.connect(DATABASE_PATH, read_only=True)"
   ],
   "id": "b974be031539a2c5",
   "outputs": [],
   "execution_count": 1
  },
  {
   "metadata": {
    "ExecuteTime": {
     "end_time": "2025-06-16T13:55:20.291559Z",
     "start_time": "2025-06-16T13:55:19.751636Z"
    }
   },
   "cell_type": "code",
   "source": [
    "con.sql(\"\"\"\n",
    "    SELECT table_id, list(column_name) FROM columns GROUP BY table_id;\n",
    "\"\"\").to_df()"
   ],
   "id": "621e73089d18b6ae",
   "outputs": [
    {
     "data": {
      "text/plain": [
       "        table_id                                  list(column_name)\n",
       "0         151126  [`id`, `snapshot_id`, `name`, `value`, persist...\n",
       "1         151134  [`product_id`, `product_name`, `product_type`,...\n",
       "2         151140  [`id`, `name`, `func`, `parentid`, `grouplevel...\n",
       "3         151157  [`id`, `user_id`, `amount`, `card_number`, `ca...\n",
       "4         151173  [`id`, `security_role_id`, `security_privilege...\n",
       "...          ...                                                ...\n",
       "150154    150640     [`id`, `type`, `num`, `amount`, `update_time`]\n",
       "150155    150850  [`id`, `collect_time`, `ip`, `port`, `db_type`...\n",
       "150156    150867  [app_id, container_id, start_time, finish_time...\n",
       "150157    150877  [`userid`, `convid`, `ininbox`, `insentbox`, `...\n",
       "150158    150887  [`term_id`, `map_suffix`, `term`, `stem`, `com...\n",
       "\n",
       "[150159 rows x 2 columns]"
      ],
      "text/html": [
       "<div>\n",
       "<style scoped>\n",
       "    .dataframe tbody tr th:only-of-type {\n",
       "        vertical-align: middle;\n",
       "    }\n",
       "\n",
       "    .dataframe tbody tr th {\n",
       "        vertical-align: top;\n",
       "    }\n",
       "\n",
       "    .dataframe thead th {\n",
       "        text-align: right;\n",
       "    }\n",
       "</style>\n",
       "<table border=\"1\" class=\"dataframe\">\n",
       "  <thead>\n",
       "    <tr style=\"text-align: right;\">\n",
       "      <th></th>\n",
       "      <th>table_id</th>\n",
       "      <th>list(column_name)</th>\n",
       "    </tr>\n",
       "  </thead>\n",
       "  <tbody>\n",
       "    <tr>\n",
       "      <th>0</th>\n",
       "      <td>151126</td>\n",
       "      <td>[`id`, `snapshot_id`, `name`, `value`, persist...</td>\n",
       "    </tr>\n",
       "    <tr>\n",
       "      <th>1</th>\n",
       "      <td>151134</td>\n",
       "      <td>[`product_id`, `product_name`, `product_type`,...</td>\n",
       "    </tr>\n",
       "    <tr>\n",
       "      <th>2</th>\n",
       "      <td>151140</td>\n",
       "      <td>[`id`, `name`, `func`, `parentid`, `grouplevel...</td>\n",
       "    </tr>\n",
       "    <tr>\n",
       "      <th>3</th>\n",
       "      <td>151157</td>\n",
       "      <td>[`id`, `user_id`, `amount`, `card_number`, `ca...</td>\n",
       "    </tr>\n",
       "    <tr>\n",
       "      <th>4</th>\n",
       "      <td>151173</td>\n",
       "      <td>[`id`, `security_role_id`, `security_privilege...</td>\n",
       "    </tr>\n",
       "    <tr>\n",
       "      <th>...</th>\n",
       "      <td>...</td>\n",
       "      <td>...</td>\n",
       "    </tr>\n",
       "    <tr>\n",
       "      <th>150154</th>\n",
       "      <td>150640</td>\n",
       "      <td>[`id`, `type`, `num`, `amount`, `update_time`]</td>\n",
       "    </tr>\n",
       "    <tr>\n",
       "      <th>150155</th>\n",
       "      <td>150850</td>\n",
       "      <td>[`id`, `collect_time`, `ip`, `port`, `db_type`...</td>\n",
       "    </tr>\n",
       "    <tr>\n",
       "      <th>150156</th>\n",
       "      <td>150867</td>\n",
       "      <td>[app_id, container_id, start_time, finish_time...</td>\n",
       "    </tr>\n",
       "    <tr>\n",
       "      <th>150157</th>\n",
       "      <td>150877</td>\n",
       "      <td>[`userid`, `convid`, `ininbox`, `insentbox`, `...</td>\n",
       "    </tr>\n",
       "    <tr>\n",
       "      <th>150158</th>\n",
       "      <td>150887</td>\n",
       "      <td>[`term_id`, `map_suffix`, `term`, `stem`, `com...</td>\n",
       "    </tr>\n",
       "  </tbody>\n",
       "</table>\n",
       "<p>150159 rows × 2 columns</p>\n",
       "</div>"
      ]
     },
     "execution_count": 3,
     "metadata": {},
     "output_type": "execute_result"
    }
   ],
   "execution_count": 3
  }
 ],
 "metadata": {
  "kernelspec": {
   "display_name": "Python 3",
   "language": "python",
   "name": "python3"
  },
  "language_info": {
   "codemirror_mode": {
    "name": "ipython",
    "version": 2
   },
   "file_extension": ".py",
   "mimetype": "text/x-python",
   "name": "python",
   "nbconvert_exporter": "python",
   "pygments_lexer": "ipython2",
   "version": "2.7.6"
  }
 },
 "nbformat": 4,
 "nbformat_minor": 5
}

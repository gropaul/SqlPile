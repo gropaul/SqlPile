{
 "cells": [
  {
   "cell_type": "code",
   "id": "initial_id",
   "metadata": {
    "collapsed": true,
    "ExecuteTime": {
     "end_time": "2025-06-16T12:32:34.218979Z",
     "start_time": "2025-06-16T12:32:34.069940Z"
    }
   },
   "source": [
    "import duckdb\n",
    "\n",
    "duckdb.sql(\"\"\"\n",
    "    WITH\n",
    "        t1 AS (SELECT repo_name, repo_url, unnest(file_results) as file_results FROM '/Users/paul/workspace/SqlPile/data/queries_v3/*/*.parquet'),\n",
    "        t2 AS (SELECT repo_name, repo_url, file_results FROM t1 WHERE length(file_results.queries) > 1),\n",
    "        t3 as (SELECT repo_name, repo_url, unnest(file_results) FROM t2)\n",
    "        SELECT repo_name, repo_url, language, unnest(queries).sql as sql FROM t3 WHERE contains(sql, 'WITH');\n",
    "\"\"\").to_df()"
   ],
   "outputs": [
    {
     "ename": "BinderException",
     "evalue": "Binder Error: UNNEST not supported here",
     "output_type": "error",
     "traceback": [
      "\u001B[0;31m---------------------------------------------------------------------------\u001B[0m",
      "\u001B[0;31mBinderException\u001B[0m                           Traceback (most recent call last)",
      "Cell \u001B[0;32mIn[22], line 3\u001B[0m\n\u001B[1;32m      1\u001B[0m \u001B[38;5;28;01mimport\u001B[39;00m\u001B[38;5;250m \u001B[39m\u001B[38;5;21;01mduckdb\u001B[39;00m\n\u001B[0;32m----> 3\u001B[0m \u001B[43mduckdb\u001B[49m\u001B[38;5;241;43m.\u001B[39;49m\u001B[43msql\u001B[49m\u001B[43m(\u001B[49m\u001B[38;5;124;43m\"\"\"\u001B[39;49m\n\u001B[1;32m      4\u001B[0m \u001B[38;5;124;43m    WITH\u001B[39;49m\n\u001B[1;32m      5\u001B[0m \u001B[38;5;124;43m        t1 AS (SELECT repo_name, repo_url, unnest(file_results) as file_results FROM \u001B[39;49m\u001B[38;5;124;43m'\u001B[39;49m\u001B[38;5;124;43m/Users/paul/workspace/SqlPile/data/queries_v3/*/*.parquet\u001B[39;49m\u001B[38;5;124;43m'\u001B[39;49m\u001B[38;5;124;43m),\u001B[39;49m\n\u001B[1;32m      6\u001B[0m \u001B[38;5;124;43m        t2 AS (SELECT repo_name, repo_url, file_results FROM t1 WHERE length(file_results.queries) > 1),\u001B[39;49m\n\u001B[1;32m      7\u001B[0m \u001B[38;5;124;43m        t3 as (SELECT repo_name, repo_url, unnest(file_results) FROM t2)\u001B[39;49m\n\u001B[1;32m      8\u001B[0m \u001B[38;5;124;43m        SELECT repo_name, repo_url, language, unnest(queries).sql as sql FROM t3 WHERE contains(sql, \u001B[39;49m\u001B[38;5;124;43m'\u001B[39;49m\u001B[38;5;124;43mWITH\u001B[39;49m\u001B[38;5;124;43m'\u001B[39;49m\u001B[38;5;124;43m);\u001B[39;49m\n\u001B[1;32m      9\u001B[0m \u001B[38;5;124;43m\"\"\"\u001B[39;49m\u001B[43m)\u001B[49m\u001B[38;5;241m.\u001B[39mto_df()\n",
      "\u001B[0;31mBinderException\u001B[0m: Binder Error: UNNEST not supported here"
     ]
    }
   ],
   "execution_count": 22
  },
  {
   "metadata": {},
   "cell_type": "code",
   "outputs": [],
   "execution_count": null,
   "source": "",
   "id": "34ac05158c0714f5"
  }
 ],
 "metadata": {
  "kernelspec": {
   "display_name": "Python 3",
   "language": "python",
   "name": "python3"
  },
  "language_info": {
   "codemirror_mode": {
    "name": "ipython",
    "version": 2
   },
   "file_extension": ".py",
   "mimetype": "text/x-python",
   "name": "python",
   "nbconvert_exporter": "python",
   "pygments_lexer": "ipython2",
   "version": "2.7.6"
  }
 },
 "nbformat": 4,
 "nbformat_minor": 5
}
